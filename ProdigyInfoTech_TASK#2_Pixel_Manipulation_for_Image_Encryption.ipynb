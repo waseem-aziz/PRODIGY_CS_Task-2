{
 "cells": [
  {
   "cell_type": "code",
   "execution_count": 5,
   "id": "95dfc8f0",
   "metadata": {},
   "outputs": [
    {
     "name": "stdout",
     "output_type": "stream",
     "text": [
      "Enter the path of the input image: E:\\waseem\\ProdigiTech\\TASK#2.PNG\n",
      "Enter the path to save the encrypted image: E:\\waseem\\ProdigiTech\\EncryptionDone.png\n",
      "Enter the path to save the decrypted image: E:\\waseem\\ProdigiTech\\DecryptionDone.png\n",
      "Enter the encryption key (integer): 7\n",
      "Image encrypted and saved to E:\\waseem\\ProdigiTech\\EncryptionDone.png\n",
      "Image decrypted and saved to E:\\waseem\\ProdigiTech\\DecryptionDone.png\n"
     ]
    }
   ],
   "source": [
    "import numpy as np\n",
    "from PIL import Image\n",
    "\n",
    "def encrypt_image(input_image_path, output_image_path, key):\n",
    "\n",
    "    img = Image.open(input_image_path)\n",
    "    img_array = np.array(img)\n",
    "\n",
    "\n",
    "    encrypted_array = (img_array + key) % 256\n",
    "\n",
    "\n",
    "    encrypted_img = Image.fromarray(encrypted_array.astype('uint8'))\n",
    "\n",
    "\n",
    "    encrypted_img.save(output_image_path)\n",
    "    print(f\"Image encrypted and saved to {output_image_path}\")\n",
    "\n",
    "def decrypt_image(input_image_path, output_image_path, key):\n",
    "\n",
    "    img = Image.open(input_image_path)\n",
    "    img_array = np.array(img)\n",
    "\n",
    "\n",
    "    decrypted_array = (img_array - key) % 256\n",
    "\n",
    "\n",
    "    decrypted_img = Image.fromarray(decrypted_array.astype('uint8'))\n",
    "\n",
    "\n",
    "    decrypted_img.save(output_image_path)\n",
    "    print(f\"Image decrypted and saved to {output_image_path}\")\n",
    "\n",
    "if __name__ == \"__main__\":\n",
    "\n",
    "    input_image_path = input(\"Enter the path of the input image: \")\n",
    "    encrypted_image_path = input(\"Enter the path to save the encrypted image: \")\n",
    "    decrypted_image_path = input(\"Enter the path to save the decrypted image: \")\n",
    "    key = int(input(\"Enter the encryption key (integer): \"))\n",
    "\n",
    "  \n",
    "    encrypt_image(input_image_path, encrypted_image_path, key)\n",
    "    decrypt_image(encrypted_image_path, decrypted_image_path, key)\n"
   ]
  }
 ],
 "metadata": {
  "kernelspec": {
   "display_name": "Python 3 (ipykernel)",
   "language": "python",
   "name": "python3"
  },
  "language_info": {
   "codemirror_mode": {
    "name": "ipython",
    "version": 3
   },
   "file_extension": ".py",
   "mimetype": "text/x-python",
   "name": "python",
   "nbconvert_exporter": "python",
   "pygments_lexer": "ipython3",
   "version": "3.11.5"
  }
 },
 "nbformat": 4,
 "nbformat_minor": 5
}
